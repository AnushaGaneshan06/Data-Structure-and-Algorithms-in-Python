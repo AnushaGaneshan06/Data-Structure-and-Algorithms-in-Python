{
 "cells": [
  {
   "cell_type": "code",
   "execution_count": 7,
   "metadata": {},
   "outputs": [
    {
     "name": "stdout",
     "output_type": "stream",
     "text": [
      "[0, 1, 2, 10, 12, 18, 45]\n",
      "The key has found list[6] 45\n"
     ]
    }
   ],
   "source": [
    "def Binarysearch(list1, key):\n",
    "    low = 0\n",
    "    high = len(list1) - 1\n",
    "    Found = False\n",
    "\n",
    "    while low<= high and not Found:\n",
    "        mid = (low + high) // 2\n",
    "        if key == list1[mid]:\n",
    "            Found = True\n",
    "        elif key > list1[mid]:\n",
    "            low = mid + 1\n",
    "        else:\n",
    "            high = mid - 1\n",
    "\n",
    "    if Found == True:\n",
    "        print(\"The key has found\", list[mid], key)\n",
    "    else:\n",
    "        print(\"key has not found\")\n",
    "    \n",
    "\n",
    "list1 = [18, 45, 1, 12, 10, 2, 0]\n",
    "list1.sort()\n",
    "print(list1)\n",
    "key = int(input(\"Enter the key value to search : \"))\n",
    "Binarysearch(list1, key)\n"
   ]
  },
  {
   "cell_type": "markdown",
   "metadata": {},
   "source": [
    "1. Given a sorted array and a key, implement Binary Search to find if the key exists.\n",
    "\n"
   ]
  },
  {
   "cell_type": "code",
   "execution_count": 13,
   "metadata": {},
   "outputs": [
    {
     "name": "stdout",
     "output_type": "stream",
     "text": [
      "[1, 3, 3, 4, 5, 6, 7, 8, 80]\n",
      "key has found 7 and found element is list[6]\n"
     ]
    }
   ],
   "source": [
    "def BinarySearch(list2, key):\n",
    "    low = 0\n",
    "    high = len(list2) - 1\n",
    "    Found = False\n",
    "\n",
    "    while low <= high and not Found:\n",
    "        mid = (low + high) // 2\n",
    "        if key == list2[mid]:\n",
    "            Found = True\n",
    "        elif key > list2[mid]:\n",
    "            low = mid + 1\n",
    "        else:\n",
    "            high = mid - 1\n",
    "    if Found:\n",
    "        print(f\"key has found {key} and found element is {list[mid]}\")\n",
    "    else:\n",
    "        print(\"not found\")\n",
    "\n",
    "\n",
    "list2 = [3, 5, 6, 8, 1 ,3 , 4, 7, 80]\n",
    "list2.sort()\n",
    "print(list2)\n",
    "key = int(input(\"Enter the key elment to find: \"))\n",
    "BinarySearch(list2, key)\n"
   ]
  },
  {
   "cell_type": "markdown",
   "metadata": {},
   "source": [
    "3. Find First and Last Occurrence of an Element\n",
    "\n",
    "\n",
    "        Given a sorted array with duplicate values, find the first and last occurrence of a key using Binary Search."
   ]
  },
  {
   "cell_type": "code",
   "execution_count": 5,
   "metadata": {},
   "outputs": [
    {
     "name": "stdout",
     "output_type": "stream",
     "text": [
      "sorted array [2, 4, 5, 8, 9, 9, 9, 10, 10, 10, 10, 10, 10, 10, 10, 10]\n",
      "The key : 10 and its first occurence is in the index of : 7\n",
      "The key : 10 and its last occurence is in the index of : 15\n"
     ]
    }
   ],
   "source": [
    "def first_occurrence(arr, key):\n",
    "    low = 0\n",
    "    high = len(arr) - 1\n",
    "    first_index = -1\n",
    "\n",
    "    while low<=high:\n",
    "        mid = (low + high) //2\n",
    "        if key == arr[mid]:\n",
    "            first_index = mid\n",
    "            high = mid - 1\n",
    "\n",
    "        elif key > arr[mid]:\n",
    "            low = mid + 1\n",
    "\n",
    "        else:\n",
    "            high = mid - 1\n",
    "\n",
    "    return first_index\n",
    "\n",
    "\n",
    "\n",
    "def last_occurrence(arr, key):\n",
    "    low = 0\n",
    "    high = len(arr) - 1\n",
    "    last_index = -1\n",
    "\n",
    "    while low <= high:\n",
    "        mid = (low + high) // 2\n",
    "        if key == arr[mid]:\n",
    "            last_index = mid\n",
    "            low = mid + 1        \n",
    "        elif key > arr[mid]:\n",
    "            low = mid + 1 \n",
    "        else:\n",
    "            high = mid - 1\n",
    "\n",
    "    return last_index\n",
    "\n",
    "\n",
    "\n",
    "\n",
    "\n",
    "arr = [2,4, 10, 10, 10, 10, 5, 8, 9, 9, 9, 10, 10, 10, 10, 10]\n",
    "arr.sort()\n",
    "print(\"sorted array\", arr)\n",
    "key = int(input(\"Enter the key value to found : \"))\n",
    "\n",
    "first_index = first_occurrence(arr, key)\n",
    "last_index = last_occurrence(arr, key)\n",
    "\n",
    "if first_index != 0:\n",
    "    print(f\"The key : {key} and its first occurence is in the index of : {first_index}\")\n",
    "    print(f\"The key : {key} and its last occurence is in the index of : {last_index}\")\n",
    "else:\n",
    "    print(\"not found \")\n"
   ]
  },
  {
   "cell_type": "markdown",
   "metadata": {},
   "source": [
    "4. Find the Index Where Element Should Be Inserted\n",
    "\n",
    "\n",
    "        Given a sorted array and a key, return the index where the key should be inserted to maintain the sorted order."
   ]
  },
  {
   "cell_type": "code",
   "execution_count": null,
   "metadata": {},
   "outputs": [
    {
     "name": "stdout",
     "output_type": "stream",
     "text": [
      "sorted array :  [2, 6, 7, 8, 20, 23, 90, 120]\n",
      "The key inserted 23 and the index value 5\n",
      "[2, 6, 7, 8, 20, 23, 90, 120]\n"
     ]
    }
   ],
   "source": [
    "def Index_Insersion(arr, key):\n",
    "    low = 0\n",
    "    high = len(arr) - 1\n",
    "    \n",
    "    while low <= high:\n",
    "        mid = (low + high ) // 2\n",
    "        if key == arr[mid]:\n",
    "            return mid\n",
    "        elif key > arr[mid]:\n",
    "            low = mid + 1\n",
    "        else:\n",
    "            high = mid - 1\n",
    "    return low\n",
    "\n",
    "arr = [6, 7, 8, 2, 20, 23, 90, 120]\n",
    "arr.sort()\n",
    "print(\"sorted array : \", arr)\n",
    "key = int(input(\"Enter the value of the key to insert : \"))\n",
    "\n",
    "low = Index_Insersion(arr, key)\n",
    "print(f\"The key inserted {key} and the index value {low}\")\n",
    "print(arr)"
   ]
  },
  {
   "cell_type": "markdown",
   "metadata": {},
   "source": [
    "5. Find Square Root Using Binary Search\n",
    "\n",
    "        Given an integer N, find the floor value of its square root using Binary Search.\n",
    "        (Example: N = 10 → Output = 3, since sqrt(10) ≈ 3.16)"
   ]
  },
  {
   "cell_type": "code",
   "execution_count": 11,
   "metadata": {},
   "outputs": [
    {
     "name": "stdout",
     "output_type": "stream",
     "text": [
      "100\n",
      "3\n"
     ]
    }
   ],
   "source": [
    "def Integer_squar_floor(key):\n",
    "    low = 1\n",
    "    high = key\n",
    "    result = 0\n",
    "    mid = (low + high) // 2\n",
    "    print(10 * 10)\n",
    "    while low <= high:\n",
    "        mid = (low + high) // 2\n",
    "        if key == (mid * mid):\n",
    "            return mid\n",
    "        elif key > mid * mid:\n",
    "            low = mid + 1\n",
    "            result = mid\n",
    "        else: \n",
    "            high = mid - 1\n",
    "    return result\n",
    "\n",
    "\n",
    "print(Integer_squar_floor(10))\n",
    "\n",
    "\n"
   ]
  },
  {
   "cell_type": "markdown",
   "metadata": {},
   "source": [
    "6.          Given an array of integers nums which is sorted in ascending order, and an integer target, write a function to search target in nums. If target exists, then return its index. Otherwise, return -1.\n",
    "    You must write an algorithm with O(log n) runtime complexity.\n",
    "\n",
    " "
   ]
  },
  {
   "cell_type": "code",
   "execution_count": null,
   "metadata": {},
   "outputs": [
    {
     "name": "stdout",
     "output_type": "stream",
     "text": [
      "key not found\n"
     ]
    }
   ],
   "source": [
    "# leet code \n",
    "\n",
    "class Solution(object):\n",
    "    def search(self, nums, target):\n",
    "        \"\"\"\n",
    "        :type nums: List[int]\n",
    "        :type target: int\n",
    "        :rtype: int\n",
    "        \"\"\"\n",
    "        low = 0\n",
    "        high = len(nums) - 1\n",
    "        result = -1\n",
    "\n",
    "        while low <= high:\n",
    "            mid = (low + high) // 2\n",
    "            if target == nums[mid] :\n",
    "               return  mid\n",
    "            elif target > nums[mid]:\n",
    "                low = mid + 1\n",
    "            else:\n",
    "                high = mid - 1\n",
    "\n",
    "        return -1\n",
    "\n",
    "sol = Solution()\n",
    "result = sol.search([-1, 0, 3, 5,  12], 9)\n",
    "target = 9\n",
    "if result != -1:\n",
    "    print(target, \"is exists in nums and its index is\" ,result)\n",
    "else:\n",
    "    print(\"key not found\")\n",
    "\n",
    "\n",
    "\n",
    "        "
   ]
  }
 ],
 "metadata": {
  "kernelspec": {
   "display_name": "Python 3",
   "language": "python",
   "name": "python3"
  },
  "language_info": {
   "codemirror_mode": {
    "name": "ipython",
    "version": 3
   },
   "file_extension": ".py",
   "mimetype": "text/x-python",
   "name": "python",
   "nbconvert_exporter": "python",
   "pygments_lexer": "ipython3",
   "version": "3.11.8"
  }
 },
 "nbformat": 4,
 "nbformat_minor": 2
}
